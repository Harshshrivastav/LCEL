{
 "cells": [
  {
   "cell_type": "code",
   "execution_count": 1,
   "metadata": {},
   "outputs": [
    {
     "name": "stdout",
     "output_type": "stream",
     "text": [
      "Requirement already satisfied: langchain in c:\\users\\harsh\\projects\\python\\aiml\\venv\\lib\\site-packages (from -r ../12-python/requirements.txt (line 1)) (0.2.12)\n",
      "Requirement already satisfied: python-dotenv in c:\\users\\harsh\\projects\\python\\aiml\\venv\\lib\\site-packages (from -r ../12-python/requirements.txt (line 2)) (1.0.1)\n",
      "Requirement already satisfied: ipykernel in c:\\users\\harsh\\projects\\python\\aiml\\venv\\lib\\site-packages (from -r ../12-python/requirements.txt (line 3)) (6.29.5)\n",
      "Requirement already satisfied: langchain-community in c:\\users\\harsh\\projects\\python\\aiml\\venv\\lib\\site-packages (from -r ../12-python/requirements.txt (line 4)) (0.2.11)\n",
      "Requirement already satisfied: pypdf in c:\\users\\harsh\\projects\\python\\aiml\\venv\\lib\\site-packages (from -r ../12-python/requirements.txt (line 5)) (4.3.1)\n",
      "Requirement already satisfied: bs4 in c:\\users\\harsh\\projects\\python\\aiml\\venv\\lib\\site-packages (from -r ../12-python/requirements.txt (line 6)) (0.0.2)\n",
      "Requirement already satisfied: arxiv in c:\\users\\harsh\\projects\\python\\aiml\\venv\\lib\\site-packages (from -r ../12-python/requirements.txt (line 7)) (2.1.3)\n",
      "Requirement already satisfied: pymupdf in c:\\users\\harsh\\projects\\python\\aiml\\venv\\lib\\site-packages (from -r ../12-python/requirements.txt (line 8)) (1.24.9)\n",
      "Requirement already satisfied: wikipedia in c:\\users\\harsh\\projects\\python\\aiml\\venv\\lib\\site-packages (from -r ../12-python/requirements.txt (line 9)) (1.4.0)\n",
      "Requirement already satisfied: langchain-text-splitters in c:\\users\\harsh\\projects\\python\\aiml\\venv\\lib\\site-packages (from -r ../12-python/requirements.txt (line 10)) (0.2.2)\n",
      "Requirement already satisfied: langchain-openai in c:\\users\\harsh\\projects\\python\\aiml\\venv\\lib\\site-packages (from -r ../12-python/requirements.txt (line 11)) (0.1.21)\n",
      "Requirement already satisfied: chromadb in c:\\users\\harsh\\projects\\python\\aiml\\venv\\lib\\site-packages (from -r ../12-python/requirements.txt (line 12)) (0.5.5)\n",
      "Requirement already satisfied: sentence_transformers in c:\\users\\harsh\\projects\\python\\aiml\\venv\\lib\\site-packages (from -r ../12-python/requirements.txt (line 13)) (3.0.1)\n",
      "Requirement already satisfied: langchain_huggingface in c:\\users\\harsh\\projects\\python\\aiml\\venv\\lib\\site-packages (from -r ../12-python/requirements.txt (line 14)) (0.0.3)\n",
      "Requirement already satisfied: faiss-cpu in c:\\users\\harsh\\projects\\python\\aiml\\venv\\lib\\site-packages (from -r ../12-python/requirements.txt (line 15)) (1.8.0.post1)\n",
      "Requirement already satisfied: langchain_chroma in c:\\users\\harsh\\projects\\python\\aiml\\venv\\lib\\site-packages (from -r ../12-python/requirements.txt (line 16)) (0.1.2)\n",
      "Requirement already satisfied: duckdb in c:\\users\\harsh\\projects\\python\\aiml\\venv\\lib\\site-packages (from -r ../12-python/requirements.txt (line 17)) (1.0.0)\n",
      "Requirement already satisfied: pandas in c:\\users\\harsh\\projects\\python\\aiml\\venv\\lib\\site-packages (from -r ../12-python/requirements.txt (line 18)) (2.2.2)\n",
      "Requirement already satisfied: openai in c:\\users\\harsh\\projects\\python\\aiml\\venv\\lib\\site-packages (from -r ../12-python/requirements.txt (line 19)) (1.40.3)\n",
      "Requirement already satisfied: langchain-groq in c:\\users\\harsh\\projects\\python\\aiml\\venv\\lib\\site-packages (from -r ../12-python/requirements.txt (line 20)) (0.1.9)\n",
      "Requirement already satisfied: duckduckgo_search==5.3.1b1 in c:\\users\\harsh\\projects\\python\\aiml\\venv\\lib\\site-packages (from -r ../12-python/requirements.txt (line 21)) (5.3.1b1)\n",
      "Requirement already satisfied: mysql-connector-python in c:\\users\\harsh\\projects\\python\\aiml\\venv\\lib\\site-packages (from -r ../12-python/requirements.txt (line 25)) (9.0.0)\n",
      "Requirement already satisfied: SQLAlchemy in c:\\users\\harsh\\projects\\python\\aiml\\venv\\lib\\site-packages (from -r ../12-python/requirements.txt (line 26)) (2.0.32)\n",
      "Requirement already satisfied: validators==0.28.1 in c:\\users\\harsh\\projects\\python\\aiml\\venv\\lib\\site-packages (from -r ../12-python/requirements.txt (line 27)) (0.28.1)\n",
      "Requirement already satisfied: youtube_transcript_api in c:\\users\\harsh\\projects\\python\\aiml\\venv\\lib\\site-packages (from -r ../12-python/requirements.txt (line 28)) (0.6.2)\n",
      "Requirement already satisfied: unstructured in c:\\users\\harsh\\projects\\python\\aiml\\venv\\lib\\site-packages (from -r ../12-python/requirements.txt (line 29)) (0.15.1)\n",
      "Requirement already satisfied: pytube in c:\\users\\harsh\\projects\\python\\aiml\\venv\\lib\\site-packages (from -r ../12-python/requirements.txt (line 30)) (15.0.0)\n",
      "Requirement already satisfied: numexpr in c:\\users\\harsh\\projects\\python\\aiml\\venv\\lib\\site-packages (from -r ../12-python/requirements.txt (line 31)) (2.10.1)\n",
      "Requirement already satisfied: huggingface_hub in c:\\users\\harsh\\projects\\python\\aiml\\venv\\lib\\site-packages (from -r ../12-python/requirements.txt (line 32)) (0.24.5)\n",
      "Requirement already satisfied: click>=8.1.7 in c:\\users\\harsh\\projects\\python\\aiml\\venv\\lib\\site-packages (from duckduckgo_search==5.3.1b1->-r ../12-python/requirements.txt (line 21)) (8.1.7)\n",
      "Requirement already satisfied: httpx>=0.27.0 in c:\\users\\harsh\\projects\\python\\aiml\\venv\\lib\\site-packages (from httpx[brotli,http2,socks]>=0.27.0->duckduckgo_search==5.3.1b1->-r ../12-python/requirements.txt (line 21)) (0.27.0)\n",
      "Requirement already satisfied: PyYAML>=5.3 in c:\\users\\harsh\\projects\\python\\aiml\\venv\\lib\\site-packages (from langchain->-r ../12-python/requirements.txt (line 1)) (6.0.2)\n",
      "Requirement already satisfied: aiohttp<4.0.0,>=3.8.3 in c:\\users\\harsh\\projects\\python\\aiml\\venv\\lib\\site-packages (from langchain->-r ../12-python/requirements.txt (line 1)) (3.10.3)\n",
      "Requirement already satisfied: langchain-core<0.3.0,>=0.2.27 in c:\\users\\harsh\\projects\\python\\aiml\\venv\\lib\\site-packages (from langchain->-r ../12-python/requirements.txt (line 1)) (0.2.29)\n",
      "Requirement already satisfied: langsmith<0.2.0,>=0.1.17 in c:\\users\\harsh\\projects\\python\\aiml\\venv\\lib\\site-packages (from langchain->-r ../12-python/requirements.txt (line 1)) (0.1.99)\n",
      "Requirement already satisfied: numpy<2.0.0,>=1.26.0 in c:\\users\\harsh\\projects\\python\\aiml\\venv\\lib\\site-packages (from langchain->-r ../12-python/requirements.txt (line 1)) (1.26.4)\n",
      "Requirement already satisfied: pydantic<3,>=1 in c:\\users\\harsh\\projects\\python\\aiml\\venv\\lib\\site-packages (from langchain->-r ../12-python/requirements.txt (line 1)) (2.8.2)\n",
      "Requirement already satisfied: requests<3,>=2 in c:\\users\\harsh\\projects\\python\\aiml\\venv\\lib\\site-packages (from langchain->-r ../12-python/requirements.txt (line 1)) (2.32.3)\n",
      "Requirement already satisfied: tenacity!=8.4.0,<9.0.0,>=8.1.0 in c:\\users\\harsh\\projects\\python\\aiml\\venv\\lib\\site-packages (from langchain->-r ../12-python/requirements.txt (line 1)) (8.5.0)\n",
      "Requirement already satisfied: comm>=0.1.1 in c:\\users\\harsh\\projects\\python\\aiml\\venv\\lib\\site-packages (from ipykernel->-r ../12-python/requirements.txt (line 3)) (0.2.2)\n",
      "Requirement already satisfied: debugpy>=1.6.5 in c:\\users\\harsh\\projects\\python\\aiml\\venv\\lib\\site-packages (from ipykernel->-r ../12-python/requirements.txt (line 3)) (1.8.5)\n",
      "Requirement already satisfied: ipython>=7.23.1 in c:\\users\\harsh\\projects\\python\\aiml\\venv\\lib\\site-packages (from ipykernel->-r ../12-python/requirements.txt (line 3)) (8.26.0)\n",
      "Requirement already satisfied: jupyter-client>=6.1.12 in c:\\users\\harsh\\projects\\python\\aiml\\venv\\lib\\site-packages (from ipykernel->-r ../12-python/requirements.txt (line 3)) (8.6.2)\n",
      "Requirement already satisfied: jupyter-core!=5.0.*,>=4.12 in c:\\users\\harsh\\projects\\python\\aiml\\venv\\lib\\site-packages (from ipykernel->-r ../12-python/requirements.txt (line 3)) (5.7.2)\n",
      "Requirement already satisfied: matplotlib-inline>=0.1 in c:\\users\\harsh\\projects\\python\\aiml\\venv\\lib\\site-packages (from ipykernel->-r ../12-python/requirements.txt (line 3)) (0.1.7)\n",
      "Requirement already satisfied: nest-asyncio in c:\\users\\harsh\\projects\\python\\aiml\\venv\\lib\\site-packages (from ipykernel->-r ../12-python/requirements.txt (line 3)) (1.6.0)\n",
      "Requirement already satisfied: packaging in c:\\users\\harsh\\projects\\python\\aiml\\venv\\lib\\site-packages (from ipykernel->-r ../12-python/requirements.txt (line 3)) (24.1)\n",
      "Requirement already satisfied: psutil in c:\\users\\harsh\\projects\\python\\aiml\\venv\\lib\\site-packages (from ipykernel->-r ../12-python/requirements.txt (line 3)) (6.0.0)\n",
      "Requirement already satisfied: pyzmq>=24 in c:\\users\\harsh\\projects\\python\\aiml\\venv\\lib\\site-packages (from ipykernel->-r ../12-python/requirements.txt (line 3)) (26.1.0)\n",
      "Requirement already satisfied: tornado>=6.1 in c:\\users\\harsh\\projects\\python\\aiml\\venv\\lib\\site-packages (from ipykernel->-r ../12-python/requirements.txt (line 3)) (6.4.1)\n",
      "Requirement already satisfied: traitlets>=5.4.0 in c:\\users\\harsh\\projects\\python\\aiml\\venv\\lib\\site-packages (from ipykernel->-r ../12-python/requirements.txt (line 3)) (5.14.3)\n",
      "Requirement already satisfied: dataclasses-json<0.7,>=0.5.7 in c:\\users\\harsh\\projects\\python\\aiml\\venv\\lib\\site-packages (from langchain-community->-r ../12-python/requirements.txt (line 4)) (0.6.7)\n",
      "Requirement already satisfied: beautifulsoup4 in c:\\users\\harsh\\projects\\python\\aiml\\venv\\lib\\site-packages (from bs4->-r ../12-python/requirements.txt (line 6)) (4.12.3)\n",
      "Requirement already satisfied: feedparser~=6.0.10 in c:\\users\\harsh\\projects\\python\\aiml\\venv\\lib\\site-packages (from arxiv->-r ../12-python/requirements.txt (line 7)) (6.0.11)\n",
      "Requirement already satisfied: PyMuPDFb==1.24.9 in c:\\users\\harsh\\projects\\python\\aiml\\venv\\lib\\site-packages (from pymupdf->-r ../12-python/requirements.txt (line 8)) (1.24.9)\n",
      "Requirement already satisfied: tiktoken<1,>=0.7 in c:\\users\\harsh\\projects\\python\\aiml\\venv\\lib\\site-packages (from langchain-openai->-r ../12-python/requirements.txt (line 11)) (0.7.0)\n",
      "Requirement already satisfied: build>=1.0.3 in c:\\users\\harsh\\projects\\python\\aiml\\venv\\lib\\site-packages (from chromadb->-r ../12-python/requirements.txt (line 12)) (1.2.1)\n",
      "Requirement already satisfied: chroma-hnswlib==0.7.6 in c:\\users\\harsh\\projects\\python\\aiml\\venv\\lib\\site-packages (from chromadb->-r ../12-python/requirements.txt (line 12)) (0.7.6)\n",
      "Requirement already satisfied: fastapi>=0.95.2 in c:\\users\\harsh\\projects\\python\\aiml\\venv\\lib\\site-packages (from chromadb->-r ../12-python/requirements.txt (line 12)) (0.112.0)\n",
      "Requirement already satisfied: uvicorn>=0.18.3 in c:\\users\\harsh\\projects\\python\\aiml\\venv\\lib\\site-packages (from uvicorn[standard]>=0.18.3->chromadb->-r ../12-python/requirements.txt (line 12)) (0.30.5)\n",
      "Requirement already satisfied: posthog>=2.4.0 in c:\\users\\harsh\\projects\\python\\aiml\\venv\\lib\\site-packages (from chromadb->-r ../12-python/requirements.txt (line 12)) (3.5.0)\n",
      "Requirement already satisfied: typing-extensions>=4.5.0 in c:\\users\\harsh\\projects\\python\\aiml\\venv\\lib\\site-packages (from chromadb->-r ../12-python/requirements.txt (line 12)) (4.12.2)\n",
      "Requirement already satisfied: onnxruntime>=1.14.1 in c:\\users\\harsh\\projects\\python\\aiml\\venv\\lib\\site-packages (from chromadb->-r ../12-python/requirements.txt (line 12)) (1.18.1)\n",
      "Requirement already satisfied: opentelemetry-api>=1.2.0 in c:\\users\\harsh\\projects\\python\\aiml\\venv\\lib\\site-packages (from chromadb->-r ../12-python/requirements.txt (line 12)) (1.26.0)\n",
      "Requirement already satisfied: opentelemetry-exporter-otlp-proto-grpc>=1.2.0 in c:\\users\\harsh\\projects\\python\\aiml\\venv\\lib\\site-packages (from chromadb->-r ../12-python/requirements.txt (line 12)) (1.26.0)\n",
      "Requirement already satisfied: opentelemetry-instrumentation-fastapi>=0.41b0 in c:\\users\\harsh\\projects\\python\\aiml\\venv\\lib\\site-packages (from chromadb->-r ../12-python/requirements.txt (line 12)) (0.47b0)\n",
      "Requirement already satisfied: opentelemetry-sdk>=1.2.0 in c:\\users\\harsh\\projects\\python\\aiml\\venv\\lib\\site-packages (from chromadb->-r ../12-python/requirements.txt (line 12)) (1.26.0)\n",
      "Requirement already satisfied: tokenizers>=0.13.2 in c:\\users\\harsh\\projects\\python\\aiml\\venv\\lib\\site-packages (from chromadb->-r ../12-python/requirements.txt (line 12)) (0.19.1)\n",
      "Requirement already satisfied: pypika>=0.48.9 in c:\\users\\harsh\\projects\\python\\aiml\\venv\\lib\\site-packages (from chromadb->-r ../12-python/requirements.txt (line 12)) (0.48.9)\n",
      "Requirement already satisfied: tqdm>=4.65.0 in c:\\users\\harsh\\projects\\python\\aiml\\venv\\lib\\site-packages (from chromadb->-r ../12-python/requirements.txt (line 12)) (4.66.5)\n",
      "Requirement already satisfied: overrides>=7.3.1 in c:\\users\\harsh\\projects\\python\\aiml\\venv\\lib\\site-packages (from chromadb->-r ../12-python/requirements.txt (line 12)) (7.7.0)\n",
      "Requirement already satisfied: importlib-resources in c:\\users\\harsh\\projects\\python\\aiml\\venv\\lib\\site-packages (from chromadb->-r ../12-python/requirements.txt (line 12)) (6.4.0)\n",
      "Requirement already satisfied: grpcio>=1.58.0 in c:\\users\\harsh\\projects\\python\\aiml\\venv\\lib\\site-packages (from chromadb->-r ../12-python/requirements.txt (line 12)) (1.65.4)\n",
      "Requirement already satisfied: bcrypt>=4.0.1 in c:\\users\\harsh\\projects\\python\\aiml\\venv\\lib\\site-packages (from chromadb->-r ../12-python/requirements.txt (line 12)) (4.2.0)\n",
      "Requirement already satisfied: typer>=0.9.0 in c:\\users\\harsh\\projects\\python\\aiml\\venv\\lib\\site-packages (from chromadb->-r ../12-python/requirements.txt (line 12)) (0.12.3)\n",
      "Requirement already satisfied: kubernetes>=28.1.0 in c:\\users\\harsh\\projects\\python\\aiml\\venv\\lib\\site-packages (from chromadb->-r ../12-python/requirements.txt (line 12)) (30.1.0)\n",
      "Requirement already satisfied: mmh3>=4.0.1 in c:\\users\\harsh\\projects\\python\\aiml\\venv\\lib\\site-packages (from chromadb->-r ../12-python/requirements.txt (line 12)) (4.1.0)\n",
      "Requirement already satisfied: orjson>=3.9.12 in c:\\users\\harsh\\projects\\python\\aiml\\venv\\lib\\site-packages (from chromadb->-r ../12-python/requirements.txt (line 12)) (3.10.7)\n",
      "Requirement already satisfied: transformers<5.0.0,>=4.34.0 in c:\\users\\harsh\\projects\\python\\aiml\\venv\\lib\\site-packages (from sentence_transformers->-r ../12-python/requirements.txt (line 13)) (4.44.0)\n",
      "Requirement already satisfied: torch>=1.11.0 in c:\\users\\harsh\\projects\\python\\aiml\\venv\\lib\\site-packages (from sentence_transformers->-r ../12-python/requirements.txt (line 13)) (2.4.0)\n",
      "Requirement already satisfied: scikit-learn in c:\\users\\harsh\\projects\\python\\aiml\\venv\\lib\\site-packages (from sentence_transformers->-r ../12-python/requirements.txt (line 13)) (1.5.1)\n",
      "Requirement already satisfied: scipy in c:\\users\\harsh\\projects\\python\\aiml\\venv\\lib\\site-packages (from sentence_transformers->-r ../12-python/requirements.txt (line 13)) (1.13.1)\n",
      "Requirement already satisfied: Pillow in c:\\users\\harsh\\projects\\python\\aiml\\venv\\lib\\site-packages (from sentence_transformers->-r ../12-python/requirements.txt (line 13)) (10.4.0)\n",
      "Requirement already satisfied: python-dateutil>=2.8.2 in c:\\users\\harsh\\projects\\python\\aiml\\venv\\lib\\site-packages (from pandas->-r ../12-python/requirements.txt (line 18)) (2.9.0.post0)\n",
      "Requirement already satisfied: pytz>=2020.1 in c:\\users\\harsh\\projects\\python\\aiml\\venv\\lib\\site-packages (from pandas->-r ../12-python/requirements.txt (line 18)) (2024.1)\n",
      "Requirement already satisfied: tzdata>=2022.7 in c:\\users\\harsh\\projects\\python\\aiml\\venv\\lib\\site-packages (from pandas->-r ../12-python/requirements.txt (line 18)) (2024.1)\n",
      "Requirement already satisfied: anyio<5,>=3.5.0 in c:\\users\\harsh\\projects\\python\\aiml\\venv\\lib\\site-packages (from openai->-r ../12-python/requirements.txt (line 19)) (4.4.0)\n",
      "Requirement already satisfied: distro<2,>=1.7.0 in c:\\users\\harsh\\projects\\python\\aiml\\venv\\lib\\site-packages (from openai->-r ../12-python/requirements.txt (line 19)) (1.9.0)\n",
      "Requirement already satisfied: jiter<1,>=0.4.0 in c:\\users\\harsh\\projects\\python\\aiml\\venv\\lib\\site-packages (from openai->-r ../12-python/requirements.txt (line 19)) (0.5.0)\n",
      "Requirement already satisfied: sniffio in c:\\users\\harsh\\projects\\python\\aiml\\venv\\lib\\site-packages (from openai->-r ../12-python/requirements.txt (line 19)) (1.3.1)\n",
      "Requirement already satisfied: groq<1,>=0.4.1 in c:\\users\\harsh\\projects\\python\\aiml\\venv\\lib\\site-packages (from langchain-groq->-r ../12-python/requirements.txt (line 20)) (0.9.0)\n",
      "Requirement already satisfied: greenlet!=0.4.17 in c:\\users\\harsh\\projects\\python\\aiml\\venv\\lib\\site-packages (from SQLAlchemy->-r ../12-python/requirements.txt (line 26)) (3.0.3)\n",
      "Requirement already satisfied: chardet in c:\\users\\harsh\\projects\\python\\aiml\\venv\\lib\\site-packages (from unstructured->-r ../12-python/requirements.txt (line 29)) (5.2.0)\n",
      "Requirement already satisfied: filetype in c:\\users\\harsh\\projects\\python\\aiml\\venv\\lib\\site-packages (from unstructured->-r ../12-python/requirements.txt (line 29)) (1.2.0)\n",
      "Requirement already satisfied: python-magic in c:\\users\\harsh\\projects\\python\\aiml\\venv\\lib\\site-packages (from unstructured->-r ../12-python/requirements.txt (line 29)) (0.4.27)\n",
      "Requirement already satisfied: lxml in c:\\users\\harsh\\projects\\python\\aiml\\venv\\lib\\site-packages (from unstructured->-r ../12-python/requirements.txt (line 29)) (5.3.0)\n",
      "Requirement already satisfied: nltk in c:\\users\\harsh\\projects\\python\\aiml\\venv\\lib\\site-packages (from unstructured->-r ../12-python/requirements.txt (line 29)) (3.8.1)\n",
      "Requirement already satisfied: tabulate in c:\\users\\harsh\\projects\\python\\aiml\\venv\\lib\\site-packages (from unstructured->-r ../12-python/requirements.txt (line 29)) (0.9.0)\n",
      "Requirement already satisfied: emoji in c:\\users\\harsh\\projects\\python\\aiml\\venv\\lib\\site-packages (from unstructured->-r ../12-python/requirements.txt (line 29)) (2.12.1)\n",
      "Requirement already satisfied: python-iso639 in c:\\users\\harsh\\projects\\python\\aiml\\venv\\lib\\site-packages (from unstructured->-r ../12-python/requirements.txt (line 29)) (2024.4.27)\n",
      "Requirement already satisfied: langdetect in c:\\users\\harsh\\projects\\python\\aiml\\venv\\lib\\site-packages (from unstructured->-r ../12-python/requirements.txt (line 29)) (1.0.9)\n",
      "Requirement already satisfied: rapidfuzz in c:\\users\\harsh\\projects\\python\\aiml\\venv\\lib\\site-packages (from unstructured->-r ../12-python/requirements.txt (line 29)) (3.9.6)\n",
      "Requirement already satisfied: backoff in c:\\users\\harsh\\projects\\python\\aiml\\venv\\lib\\site-packages (from unstructured->-r ../12-python/requirements.txt (line 29)) (2.2.1)\n",
      "Requirement already satisfied: unstructured-client in c:\\users\\harsh\\projects\\python\\aiml\\venv\\lib\\site-packages (from unstructured->-r ../12-python/requirements.txt (line 29)) (0.25.4)\n",
      "Requirement already satisfied: wrapt in c:\\users\\harsh\\projects\\python\\aiml\\venv\\lib\\site-packages (from unstructured->-r ../12-python/requirements.txt (line 29)) (1.16.0)\n",
      "Requirement already satisfied: filelock in c:\\users\\harsh\\projects\\python\\aiml\\venv\\lib\\site-packages (from huggingface_hub->-r ../12-python/requirements.txt (line 32)) (3.15.4)\n",
      "Requirement already satisfied: fsspec>=2023.5.0 in c:\\users\\harsh\\projects\\python\\aiml\\venv\\lib\\site-packages (from huggingface_hub->-r ../12-python/requirements.txt (line 32)) (2024.6.1)\n",
      "Requirement already satisfied: aiohappyeyeballs>=2.3.0 in c:\\users\\harsh\\projects\\python\\aiml\\venv\\lib\\site-packages (from aiohttp<4.0.0,>=3.8.3->langchain->-r ../12-python/requirements.txt (line 1)) (2.3.5)\n",
      "Requirement already satisfied: aiosignal>=1.1.2 in c:\\users\\harsh\\projects\\python\\aiml\\venv\\lib\\site-packages (from aiohttp<4.0.0,>=3.8.3->langchain->-r ../12-python/requirements.txt (line 1)) (1.3.1)\n",
      "Requirement already satisfied: attrs>=17.3.0 in c:\\users\\harsh\\projects\\python\\aiml\\venv\\lib\\site-packages (from aiohttp<4.0.0,>=3.8.3->langchain->-r ../12-python/requirements.txt (line 1)) (24.2.0)\n",
      "Requirement already satisfied: frozenlist>=1.1.1 in c:\\users\\harsh\\projects\\python\\aiml\\venv\\lib\\site-packages (from aiohttp<4.0.0,>=3.8.3->langchain->-r ../12-python/requirements.txt (line 1)) (1.4.1)\n",
      "Requirement already satisfied: multidict<7.0,>=4.5 in c:\\users\\harsh\\projects\\python\\aiml\\venv\\lib\\site-packages (from aiohttp<4.0.0,>=3.8.3->langchain->-r ../12-python/requirements.txt (line 1)) (6.0.5)\n",
      "Requirement already satisfied: yarl<2.0,>=1.0 in c:\\users\\harsh\\projects\\python\\aiml\\venv\\lib\\site-packages (from aiohttp<4.0.0,>=3.8.3->langchain->-r ../12-python/requirements.txt (line 1)) (1.9.4)\n",
      "Requirement already satisfied: idna>=2.8 in c:\\users\\harsh\\projects\\python\\aiml\\venv\\lib\\site-packages (from anyio<5,>=3.5.0->openai->-r ../12-python/requirements.txt (line 19)) (3.7)\n",
      "Requirement already satisfied: pyproject_hooks in c:\\users\\harsh\\projects\\python\\aiml\\venv\\lib\\site-packages (from build>=1.0.3->chromadb->-r ../12-python/requirements.txt (line 12)) (1.1.0)\n",
      "Requirement already satisfied: colorama in c:\\users\\harsh\\projects\\python\\aiml\\venv\\lib\\site-packages (from build>=1.0.3->chromadb->-r ../12-python/requirements.txt (line 12)) (0.4.6)\n",
      "Requirement already satisfied: marshmallow<4.0.0,>=3.18.0 in c:\\users\\harsh\\projects\\python\\aiml\\venv\\lib\\site-packages (from dataclasses-json<0.7,>=0.5.7->langchain-community->-r ../12-python/requirements.txt (line 4)) (3.21.3)\n",
      "Requirement already satisfied: typing-inspect<1,>=0.4.0 in c:\\users\\harsh\\projects\\python\\aiml\\venv\\lib\\site-packages (from dataclasses-json<0.7,>=0.5.7->langchain-community->-r ../12-python/requirements.txt (line 4)) (0.9.0)\n",
      "Requirement already satisfied: starlette<0.38.0,>=0.37.2 in c:\\users\\harsh\\projects\\python\\aiml\\venv\\lib\\site-packages (from fastapi>=0.95.2->chromadb->-r ../12-python/requirements.txt (line 12)) (0.37.2)\n",
      "Requirement already satisfied: sgmllib3k in c:\\users\\harsh\\projects\\python\\aiml\\venv\\lib\\site-packages (from feedparser~=6.0.10->arxiv->-r ../12-python/requirements.txt (line 7)) (1.0.0)\n",
      "Requirement already satisfied: certifi in c:\\users\\harsh\\projects\\python\\aiml\\venv\\lib\\site-packages (from httpx>=0.27.0->httpx[brotli,http2,socks]>=0.27.0->duckduckgo_search==5.3.1b1->-r ../12-python/requirements.txt (line 21)) (2024.7.4)\n",
      "Requirement already satisfied: httpcore==1.* in c:\\users\\harsh\\projects\\python\\aiml\\venv\\lib\\site-packages (from httpx>=0.27.0->httpx[brotli,http2,socks]>=0.27.0->duckduckgo_search==5.3.1b1->-r ../12-python/requirements.txt (line 21)) (1.0.5)\n",
      "Requirement already satisfied: h11<0.15,>=0.13 in c:\\users\\harsh\\projects\\python\\aiml\\venv\\lib\\site-packages (from httpcore==1.*->httpx>=0.27.0->httpx[brotli,http2,socks]>=0.27.0->duckduckgo_search==5.3.1b1->-r ../12-python/requirements.txt (line 21)) (0.14.0)\n",
      "Requirement already satisfied: brotli in c:\\users\\harsh\\projects\\python\\aiml\\venv\\lib\\site-packages (from httpx[brotli,http2,socks]>=0.27.0->duckduckgo_search==5.3.1b1->-r ../12-python/requirements.txt (line 21)) (1.1.0)\n",
      "Requirement already satisfied: h2<5,>=3 in c:\\users\\harsh\\projects\\python\\aiml\\venv\\lib\\site-packages (from httpx[brotli,http2,socks]>=0.27.0->duckduckgo_search==5.3.1b1->-r ../12-python/requirements.txt (line 21)) (4.1.0)\n",
      "Requirement already satisfied: socksio==1.* in c:\\users\\harsh\\projects\\python\\aiml\\venv\\lib\\site-packages (from httpx[brotli,http2,socks]>=0.27.0->duckduckgo_search==5.3.1b1->-r ../12-python/requirements.txt (line 21)) (1.0.0)\n",
      "Requirement already satisfied: decorator in c:\\users\\harsh\\projects\\python\\aiml\\venv\\lib\\site-packages (from ipython>=7.23.1->ipykernel->-r ../12-python/requirements.txt (line 3)) (5.1.1)\n",
      "Requirement already satisfied: jedi>=0.16 in c:\\users\\harsh\\projects\\python\\aiml\\venv\\lib\\site-packages (from ipython>=7.23.1->ipykernel->-r ../12-python/requirements.txt (line 3)) (0.19.1)\n",
      "Requirement already satisfied: prompt-toolkit<3.1.0,>=3.0.41 in c:\\users\\harsh\\projects\\python\\aiml\\venv\\lib\\site-packages (from ipython>=7.23.1->ipykernel->-r ../12-python/requirements.txt (line 3)) (3.0.47)\n",
      "Requirement already satisfied: pygments>=2.4.0 in c:\\users\\harsh\\projects\\python\\aiml\\venv\\lib\\site-packages (from ipython>=7.23.1->ipykernel->-r ../12-python/requirements.txt (line 3)) (2.18.0)\n",
      "Requirement already satisfied: stack-data in c:\\users\\harsh\\projects\\python\\aiml\\venv\\lib\\site-packages (from ipython>=7.23.1->ipykernel->-r ../12-python/requirements.txt (line 3)) (0.6.3)\n",
      "Requirement already satisfied: platformdirs>=2.5 in c:\\users\\harsh\\projects\\python\\aiml\\venv\\lib\\site-packages (from jupyter-core!=5.0.*,>=4.12->ipykernel->-r ../12-python/requirements.txt (line 3)) (4.2.2)\n",
      "Requirement already satisfied: pywin32>=300 in c:\\users\\harsh\\projects\\python\\aiml\\venv\\lib\\site-packages (from jupyter-core!=5.0.*,>=4.12->ipykernel->-r ../12-python/requirements.txt (line 3)) (306)\n",
      "Requirement already satisfied: six>=1.9.0 in c:\\users\\harsh\\projects\\python\\aiml\\venv\\lib\\site-packages (from kubernetes>=28.1.0->chromadb->-r ../12-python/requirements.txt (line 12)) (1.16.0)\n",
      "Requirement already satisfied: google-auth>=1.0.1 in c:\\users\\harsh\\projects\\python\\aiml\\venv\\lib\\site-packages (from kubernetes>=28.1.0->chromadb->-r ../12-python/requirements.txt (line 12)) (2.33.0)\n",
      "Requirement already satisfied: websocket-client!=0.40.0,!=0.41.*,!=0.42.*,>=0.32.0 in c:\\users\\harsh\\projects\\python\\aiml\\venv\\lib\\site-packages (from kubernetes>=28.1.0->chromadb->-r ../12-python/requirements.txt (line 12)) (1.8.0)\n",
      "Requirement already satisfied: requests-oauthlib in c:\\users\\harsh\\projects\\python\\aiml\\venv\\lib\\site-packages (from kubernetes>=28.1.0->chromadb->-r ../12-python/requirements.txt (line 12)) (2.0.0)\n",
      "Requirement already satisfied: oauthlib>=3.2.2 in c:\\users\\harsh\\projects\\python\\aiml\\venv\\lib\\site-packages (from kubernetes>=28.1.0->chromadb->-r ../12-python/requirements.txt (line 12)) (3.2.2)\n",
      "Requirement already satisfied: urllib3>=1.24.2 in c:\\users\\harsh\\projects\\python\\aiml\\venv\\lib\\site-packages (from kubernetes>=28.1.0->chromadb->-r ../12-python/requirements.txt (line 12)) (2.2.2)\n",
      "Requirement already satisfied: jsonpatch<2.0,>=1.33 in c:\\users\\harsh\\projects\\python\\aiml\\venv\\lib\\site-packages (from langchain-core<0.3.0,>=0.2.27->langchain->-r ../12-python/requirements.txt (line 1)) (1.33)\n",
      "Requirement already satisfied: coloredlogs in c:\\users\\harsh\\projects\\python\\aiml\\venv\\lib\\site-packages (from onnxruntime>=1.14.1->chromadb->-r ../12-python/requirements.txt (line 12)) (15.0.1)\n",
      "Requirement already satisfied: flatbuffers in c:\\users\\harsh\\projects\\python\\aiml\\venv\\lib\\site-packages (from onnxruntime>=1.14.1->chromadb->-r ../12-python/requirements.txt (line 12)) (24.3.25)\n",
      "Requirement already satisfied: protobuf in c:\\users\\harsh\\projects\\python\\aiml\\venv\\lib\\site-packages (from onnxruntime>=1.14.1->chromadb->-r ../12-python/requirements.txt (line 12)) (4.25.4)\n",
      "Requirement already satisfied: sympy in c:\\users\\harsh\\projects\\python\\aiml\\venv\\lib\\site-packages (from onnxruntime>=1.14.1->chromadb->-r ../12-python/requirements.txt (line 12)) (1.13.2)\n",
      "Requirement already satisfied: deprecated>=1.2.6 in c:\\users\\harsh\\projects\\python\\aiml\\venv\\lib\\site-packages (from opentelemetry-api>=1.2.0->chromadb->-r ../12-python/requirements.txt (line 12)) (1.2.14)\n",
      "Requirement already satisfied: importlib-metadata<=8.0.0,>=6.0 in c:\\users\\harsh\\projects\\python\\aiml\\venv\\lib\\site-packages (from opentelemetry-api>=1.2.0->chromadb->-r ../12-python/requirements.txt (line 12)) (8.0.0)\n",
      "Requirement already satisfied: googleapis-common-protos~=1.52 in c:\\users\\harsh\\projects\\python\\aiml\\venv\\lib\\site-packages (from opentelemetry-exporter-otlp-proto-grpc>=1.2.0->chromadb->-r ../12-python/requirements.txt (line 12)) (1.63.2)\n",
      "Requirement already satisfied: opentelemetry-exporter-otlp-proto-common==1.26.0 in c:\\users\\harsh\\projects\\python\\aiml\\venv\\lib\\site-packages (from opentelemetry-exporter-otlp-proto-grpc>=1.2.0->chromadb->-r ../12-python/requirements.txt (line 12)) (1.26.0)\n",
      "Requirement already satisfied: opentelemetry-proto==1.26.0 in c:\\users\\harsh\\projects\\python\\aiml\\venv\\lib\\site-packages (from opentelemetry-exporter-otlp-proto-grpc>=1.2.0->chromadb->-r ../12-python/requirements.txt (line 12)) (1.26.0)\n",
      "Requirement already satisfied: opentelemetry-instrumentation-asgi==0.47b0 in c:\\users\\harsh\\projects\\python\\aiml\\venv\\lib\\site-packages (from opentelemetry-instrumentation-fastapi>=0.41b0->chromadb->-r ../12-python/requirements.txt (line 12)) (0.47b0)\n",
      "Requirement already satisfied: opentelemetry-instrumentation==0.47b0 in c:\\users\\harsh\\projects\\python\\aiml\\venv\\lib\\site-packages (from opentelemetry-instrumentation-fastapi>=0.41b0->chromadb->-r ../12-python/requirements.txt (line 12)) (0.47b0)\n",
      "Requirement already satisfied: opentelemetry-semantic-conventions==0.47b0 in c:\\users\\harsh\\projects\\python\\aiml\\venv\\lib\\site-packages (from opentelemetry-instrumentation-fastapi>=0.41b0->chromadb->-r ../12-python/requirements.txt (line 12)) (0.47b0)\n",
      "Requirement already satisfied: opentelemetry-util-http==0.47b0 in c:\\users\\harsh\\projects\\python\\aiml\\venv\\lib\\site-packages (from opentelemetry-instrumentation-fastapi>=0.41b0->chromadb->-r ../12-python/requirements.txt (line 12)) (0.47b0)\n",
      "Requirement already satisfied: setuptools>=16.0 in c:\\users\\harsh\\projects\\python\\aiml\\venv\\lib\\site-packages (from opentelemetry-instrumentation==0.47b0->opentelemetry-instrumentation-fastapi>=0.41b0->chromadb->-r ../12-python/requirements.txt (line 12)) (72.1.0)\n",
      "Requirement already satisfied: asgiref~=3.0 in c:\\users\\harsh\\projects\\python\\aiml\\venv\\lib\\site-packages (from opentelemetry-instrumentation-asgi==0.47b0->opentelemetry-instrumentation-fastapi>=0.41b0->chromadb->-r ../12-python/requirements.txt (line 12)) (3.8.1)\n",
      "Requirement already satisfied: monotonic>=1.5 in c:\\users\\harsh\\projects\\python\\aiml\\venv\\lib\\site-packages (from posthog>=2.4.0->chromadb->-r ../12-python/requirements.txt (line 12)) (1.6)\n",
      "Requirement already satisfied: annotated-types>=0.4.0 in c:\\users\\harsh\\projects\\python\\aiml\\venv\\lib\\site-packages (from pydantic<3,>=1->langchain->-r ../12-python/requirements.txt (line 1)) (0.7.0)\n",
      "Requirement already satisfied: pydantic-core==2.20.1 in c:\\users\\harsh\\projects\\python\\aiml\\venv\\lib\\site-packages (from pydantic<3,>=1->langchain->-r ../12-python/requirements.txt (line 1)) (2.20.1)\n",
      "Requirement already satisfied: charset-normalizer<4,>=2 in c:\\users\\harsh\\projects\\python\\aiml\\venv\\lib\\site-packages (from requests<3,>=2->langchain->-r ../12-python/requirements.txt (line 1)) (3.3.2)\n",
      "Requirement already satisfied: regex>=2022.1.18 in c:\\users\\harsh\\projects\\python\\aiml\\venv\\lib\\site-packages (from tiktoken<1,>=0.7->langchain-openai->-r ../12-python/requirements.txt (line 11)) (2024.7.24)\n",
      "Requirement already satisfied: networkx in c:\\users\\harsh\\projects\\python\\aiml\\venv\\lib\\site-packages (from torch>=1.11.0->sentence_transformers->-r ../12-python/requirements.txt (line 13)) (3.3)\n",
      "Requirement already satisfied: jinja2 in c:\\users\\harsh\\projects\\python\\aiml\\venv\\lib\\site-packages (from torch>=1.11.0->sentence_transformers->-r ../12-python/requirements.txt (line 13)) (3.1.4)\n",
      "Requirement already satisfied: safetensors>=0.4.1 in c:\\users\\harsh\\projects\\python\\aiml\\venv\\lib\\site-packages (from transformers<5.0.0,>=4.34.0->sentence_transformers->-r ../12-python/requirements.txt (line 13)) (0.4.4)\n",
      "Requirement already satisfied: shellingham>=1.3.0 in c:\\users\\harsh\\projects\\python\\aiml\\venv\\lib\\site-packages (from typer>=0.9.0->chromadb->-r ../12-python/requirements.txt (line 12)) (1.5.4)\n",
      "Requirement already satisfied: rich>=10.11.0 in c:\\users\\harsh\\projects\\python\\aiml\\venv\\lib\\site-packages (from typer>=0.9.0->chromadb->-r ../12-python/requirements.txt (line 12)) (13.7.1)\n",
      "Requirement already satisfied: httptools>=0.5.0 in c:\\users\\harsh\\projects\\python\\aiml\\venv\\lib\\site-packages (from uvicorn[standard]>=0.18.3->chromadb->-r ../12-python/requirements.txt (line 12)) (0.6.1)\n",
      "Requirement already satisfied: watchfiles>=0.13 in c:\\users\\harsh\\projects\\python\\aiml\\venv\\lib\\site-packages (from uvicorn[standard]>=0.18.3->chromadb->-r ../12-python/requirements.txt (line 12)) (0.23.0)\n",
      "Requirement already satisfied: websockets>=10.4 in c:\\users\\harsh\\projects\\python\\aiml\\venv\\lib\\site-packages (from uvicorn[standard]>=0.18.3->chromadb->-r ../12-python/requirements.txt (line 12)) (12.0)\n",
      "Requirement already satisfied: soupsieve>1.2 in c:\\users\\harsh\\projects\\python\\aiml\\venv\\lib\\site-packages (from beautifulsoup4->bs4->-r ../12-python/requirements.txt (line 6)) (2.5)\n",
      "Requirement already satisfied: joblib in c:\\users\\harsh\\projects\\python\\aiml\\venv\\lib\\site-packages (from nltk->unstructured->-r ../12-python/requirements.txt (line 29)) (1.4.2)\n",
      "Requirement already satisfied: threadpoolctl>=3.1.0 in c:\\users\\harsh\\projects\\python\\aiml\\venv\\lib\\site-packages (from scikit-learn->sentence_transformers->-r ../12-python/requirements.txt (line 13)) (3.5.0)\n",
      "Requirement already satisfied: deepdiff>=6.0 in c:\\users\\harsh\\projects\\python\\aiml\\venv\\lib\\site-packages (from unstructured-client->unstructured->-r ../12-python/requirements.txt (line 29)) (7.0.1)\n",
      "Requirement already satisfied: jsonpath-python>=1.0.6 in c:\\users\\harsh\\projects\\python\\aiml\\venv\\lib\\site-packages (from unstructured-client->unstructured->-r ../12-python/requirements.txt (line 29)) (1.0.6)\n",
      "Requirement already satisfied: mypy-extensions>=1.0.0 in c:\\users\\harsh\\projects\\python\\aiml\\venv\\lib\\site-packages (from unstructured-client->unstructured->-r ../12-python/requirements.txt (line 29)) (1.0.0)\n",
      "Requirement already satisfied: requests-toolbelt>=1.0.0 in c:\\users\\harsh\\projects\\python\\aiml\\venv\\lib\\site-packages (from unstructured-client->unstructured->-r ../12-python/requirements.txt (line 29)) (1.0.0)\n",
      "Requirement already satisfied: ordered-set<4.2.0,>=4.1.0 in c:\\users\\harsh\\projects\\python\\aiml\\venv\\lib\\site-packages (from deepdiff>=6.0->unstructured-client->unstructured->-r ../12-python/requirements.txt (line 29)) (4.1.0)\n",
      "Requirement already satisfied: cachetools<6.0,>=2.0.0 in c:\\users\\harsh\\projects\\python\\aiml\\venv\\lib\\site-packages (from google-auth>=1.0.1->kubernetes>=28.1.0->chromadb->-r ../12-python/requirements.txt (line 12)) (5.4.0)\n",
      "Requirement already satisfied: pyasn1-modules>=0.2.1 in c:\\users\\harsh\\projects\\python\\aiml\\venv\\lib\\site-packages (from google-auth>=1.0.1->kubernetes>=28.1.0->chromadb->-r ../12-python/requirements.txt (line 12)) (0.4.0)\n",
      "Requirement already satisfied: rsa<5,>=3.1.4 in c:\\users\\harsh\\projects\\python\\aiml\\venv\\lib\\site-packages (from google-auth>=1.0.1->kubernetes>=28.1.0->chromadb->-r ../12-python/requirements.txt (line 12)) (4.9)\n",
      "Requirement already satisfied: hyperframe<7,>=6.0 in c:\\users\\harsh\\projects\\python\\aiml\\venv\\lib\\site-packages (from h2<5,>=3->httpx[brotli,http2,socks]>=0.27.0->duckduckgo_search==5.3.1b1->-r ../12-python/requirements.txt (line 21)) (6.0.1)\n",
      "Requirement already satisfied: hpack<5,>=4.0 in c:\\users\\harsh\\projects\\python\\aiml\\venv\\lib\\site-packages (from h2<5,>=3->httpx[brotli,http2,socks]>=0.27.0->duckduckgo_search==5.3.1b1->-r ../12-python/requirements.txt (line 21)) (4.0.0)\n",
      "Requirement already satisfied: zipp>=0.5 in c:\\users\\harsh\\projects\\python\\aiml\\venv\\lib\\site-packages (from importlib-metadata<=8.0.0,>=6.0->opentelemetry-api>=1.2.0->chromadb->-r ../12-python/requirements.txt (line 12)) (3.20.0)\n",
      "Requirement already satisfied: parso<0.9.0,>=0.8.3 in c:\\users\\harsh\\projects\\python\\aiml\\venv\\lib\\site-packages (from jedi>=0.16->ipython>=7.23.1->ipykernel->-r ../12-python/requirements.txt (line 3)) (0.8.4)\n",
      "Requirement already satisfied: jsonpointer>=1.9 in c:\\users\\harsh\\projects\\python\\aiml\\venv\\lib\\site-packages (from jsonpatch<2.0,>=1.33->langchain-core<0.3.0,>=0.2.27->langchain->-r ../12-python/requirements.txt (line 1)) (3.0.0)\n",
      "Requirement already satisfied: wcwidth in c:\\users\\harsh\\projects\\python\\aiml\\venv\\lib\\site-packages (from prompt-toolkit<3.1.0,>=3.0.41->ipython>=7.23.1->ipykernel->-r ../12-python/requirements.txt (line 3)) (0.2.13)\n",
      "Requirement already satisfied: markdown-it-py>=2.2.0 in c:\\users\\harsh\\projects\\python\\aiml\\venv\\lib\\site-packages (from rich>=10.11.0->typer>=0.9.0->chromadb->-r ../12-python/requirements.txt (line 12)) (3.0.0)\n",
      "Requirement already satisfied: humanfriendly>=9.1 in c:\\users\\harsh\\projects\\python\\aiml\\venv\\lib\\site-packages (from coloredlogs->onnxruntime>=1.14.1->chromadb->-r ../12-python/requirements.txt (line 12)) (10.0)\n",
      "Requirement already satisfied: MarkupSafe>=2.0 in c:\\users\\harsh\\projects\\python\\aiml\\venv\\lib\\site-packages (from jinja2->torch>=1.11.0->sentence_transformers->-r ../12-python/requirements.txt (line 13)) (2.1.5)\n",
      "Requirement already satisfied: executing>=1.2.0 in c:\\users\\harsh\\projects\\python\\aiml\\venv\\lib\\site-packages (from stack-data->ipython>=7.23.1->ipykernel->-r ../12-python/requirements.txt (line 3)) (2.0.1)\n",
      "Requirement already satisfied: asttokens>=2.1.0 in c:\\users\\harsh\\projects\\python\\aiml\\venv\\lib\\site-packages (from stack-data->ipython>=7.23.1->ipykernel->-r ../12-python/requirements.txt (line 3)) (2.4.1)\n",
      "Requirement already satisfied: pure-eval in c:\\users\\harsh\\projects\\python\\aiml\\venv\\lib\\site-packages (from stack-data->ipython>=7.23.1->ipykernel->-r ../12-python/requirements.txt (line 3)) (0.2.3)\n",
      "Requirement already satisfied: mpmath<1.4,>=1.1.0 in c:\\users\\harsh\\projects\\python\\aiml\\venv\\lib\\site-packages (from sympy->onnxruntime>=1.14.1->chromadb->-r ../12-python/requirements.txt (line 12)) (1.3.0)\n",
      "Requirement already satisfied: pyreadline3 in c:\\users\\harsh\\projects\\python\\aiml\\venv\\lib\\site-packages (from humanfriendly>=9.1->coloredlogs->onnxruntime>=1.14.1->chromadb->-r ../12-python/requirements.txt (line 12)) (3.4.1)\n",
      "Requirement already satisfied: mdurl~=0.1 in c:\\users\\harsh\\projects\\python\\aiml\\venv\\lib\\site-packages (from markdown-it-py>=2.2.0->rich>=10.11.0->typer>=0.9.0->chromadb->-r ../12-python/requirements.txt (line 12)) (0.1.2)\n",
      "Requirement already satisfied: pyasn1<0.7.0,>=0.4.6 in c:\\users\\harsh\\projects\\python\\aiml\\venv\\lib\\site-packages (from pyasn1-modules>=0.2.1->google-auth>=1.0.1->kubernetes>=28.1.0->chromadb->-r ../12-python/requirements.txt (line 12)) (0.6.0)\n",
      "Note: you may need to restart the kernel to use updated packages.\n"
     ]
    }
   ],
   "source": [
    "%pip install -r \"../12-python/requirements.txt\""
   ]
  },
  {
   "cell_type": "markdown",
   "metadata": {},
   "source": [
    "### Build a Simple LLM Application with LCEL\n",
    "In this quickstart we'll show you how to build a simple LLM application with LangChain. This application will translate text from English into another language. This is a relatively simple LLM application - it's just a single LLM call plus some prompting. Still, this is a great way to get started with LangChain - a lot of features can be built with just some prompting and an LLM call!\n",
    "After seeing this video, you'll have a high level overview of:\n",
    "\n",
    "- Using language models\n",
    "- Using PromptTemplates and OutputParsers\n",
    "- Using LangChain Expression Language (LCEL) to chain components together\n",
    "- Debugging and tracing your application using LangSmith\n",
    "- Deploying your application with LangServe"
   ]
  },
  {
   "cell_type": "code",
   "execution_count": 2,
   "metadata": {},
   "outputs": [
    {
     "name": "stdout",
     "output_type": "stream",
     "text": [
      "Requirement already satisfied: langchain in c:\\users\\harsh\\projects\\python\\aiml\\venv\\lib\\site-packages (0.2.12)\n",
      "Requirement already satisfied: PyYAML>=5.3 in c:\\users\\harsh\\projects\\python\\aiml\\venv\\lib\\site-packages (from langchain) (6.0.2)\n",
      "Requirement already satisfied: SQLAlchemy<3,>=1.4 in c:\\users\\harsh\\projects\\python\\aiml\\venv\\lib\\site-packages (from langchain) (2.0.32)\n",
      "Requirement already satisfied: aiohttp<4.0.0,>=3.8.3 in c:\\users\\harsh\\projects\\python\\aiml\\venv\\lib\\site-packages (from langchain) (3.10.3)\n",
      "Requirement already satisfied: langchain-core<0.3.0,>=0.2.27 in c:\\users\\harsh\\projects\\python\\aiml\\venv\\lib\\site-packages (from langchain) (0.2.29)\n",
      "Requirement already satisfied: langchain-text-splitters<0.3.0,>=0.2.0 in c:\\users\\harsh\\projects\\python\\aiml\\venv\\lib\\site-packages (from langchain) (0.2.2)\n",
      "Requirement already satisfied: langsmith<0.2.0,>=0.1.17 in c:\\users\\harsh\\projects\\python\\aiml\\venv\\lib\\site-packages (from langchain) (0.1.99)\n",
      "Requirement already satisfied: numpy<2.0.0,>=1.26.0 in c:\\users\\harsh\\projects\\python\\aiml\\venv\\lib\\site-packages (from langchain) (1.26.4)\n",
      "Requirement already satisfied: pydantic<3,>=1 in c:\\users\\harsh\\projects\\python\\aiml\\venv\\lib\\site-packages (from langchain) (2.8.2)\n",
      "Requirement already satisfied: requests<3,>=2 in c:\\users\\harsh\\projects\\python\\aiml\\venv\\lib\\site-packages (from langchain) (2.32.3)\n",
      "Requirement already satisfied: tenacity!=8.4.0,<9.0.0,>=8.1.0 in c:\\users\\harsh\\projects\\python\\aiml\\venv\\lib\\site-packages (from langchain) (8.5.0)\n",
      "Requirement already satisfied: aiohappyeyeballs>=2.3.0 in c:\\users\\harsh\\projects\\python\\aiml\\venv\\lib\\site-packages (from aiohttp<4.0.0,>=3.8.3->langchain) (2.3.5)\n",
      "Requirement already satisfied: aiosignal>=1.1.2 in c:\\users\\harsh\\projects\\python\\aiml\\venv\\lib\\site-packages (from aiohttp<4.0.0,>=3.8.3->langchain) (1.3.1)\n",
      "Requirement already satisfied: attrs>=17.3.0 in c:\\users\\harsh\\projects\\python\\aiml\\venv\\lib\\site-packages (from aiohttp<4.0.0,>=3.8.3->langchain) (24.2.0)\n",
      "Requirement already satisfied: frozenlist>=1.1.1 in c:\\users\\harsh\\projects\\python\\aiml\\venv\\lib\\site-packages (from aiohttp<4.0.0,>=3.8.3->langchain) (1.4.1)\n",
      "Requirement already satisfied: multidict<7.0,>=4.5 in c:\\users\\harsh\\projects\\python\\aiml\\venv\\lib\\site-packages (from aiohttp<4.0.0,>=3.8.3->langchain) (6.0.5)\n",
      "Requirement already satisfied: yarl<2.0,>=1.0 in c:\\users\\harsh\\projects\\python\\aiml\\venv\\lib\\site-packages (from aiohttp<4.0.0,>=3.8.3->langchain) (1.9.4)\n",
      "Requirement already satisfied: jsonpatch<2.0,>=1.33 in c:\\users\\harsh\\projects\\python\\aiml\\venv\\lib\\site-packages (from langchain-core<0.3.0,>=0.2.27->langchain) (1.33)\n",
      "Requirement already satisfied: packaging<25,>=23.2 in c:\\users\\harsh\\projects\\python\\aiml\\venv\\lib\\site-packages (from langchain-core<0.3.0,>=0.2.27->langchain) (24.1)\n",
      "Requirement already satisfied: typing-extensions>=4.7 in c:\\users\\harsh\\projects\\python\\aiml\\venv\\lib\\site-packages (from langchain-core<0.3.0,>=0.2.27->langchain) (4.12.2)\n",
      "Requirement already satisfied: orjson<4.0.0,>=3.9.14 in c:\\users\\harsh\\projects\\python\\aiml\\venv\\lib\\site-packages (from langsmith<0.2.0,>=0.1.17->langchain) (3.10.7)\n",
      "Requirement already satisfied: annotated-types>=0.4.0 in c:\\users\\harsh\\projects\\python\\aiml\\venv\\lib\\site-packages (from pydantic<3,>=1->langchain) (0.7.0)\n",
      "Requirement already satisfied: pydantic-core==2.20.1 in c:\\users\\harsh\\projects\\python\\aiml\\venv\\lib\\site-packages (from pydantic<3,>=1->langchain) (2.20.1)\n",
      "Requirement already satisfied: charset-normalizer<4,>=2 in c:\\users\\harsh\\projects\\python\\aiml\\venv\\lib\\site-packages (from requests<3,>=2->langchain) (3.3.2)\n",
      "Requirement already satisfied: idna<4,>=2.5 in c:\\users\\harsh\\projects\\python\\aiml\\venv\\lib\\site-packages (from requests<3,>=2->langchain) (3.7)\n",
      "Requirement already satisfied: urllib3<3,>=1.21.1 in c:\\users\\harsh\\projects\\python\\aiml\\venv\\lib\\site-packages (from requests<3,>=2->langchain) (2.2.2)\n",
      "Requirement already satisfied: certifi>=2017.4.17 in c:\\users\\harsh\\projects\\python\\aiml\\venv\\lib\\site-packages (from requests<3,>=2->langchain) (2024.7.4)\n",
      "Requirement already satisfied: greenlet!=0.4.17 in c:\\users\\harsh\\projects\\python\\aiml\\venv\\lib\\site-packages (from SQLAlchemy<3,>=1.4->langchain) (3.0.3)\n",
      "Requirement already satisfied: jsonpointer>=1.9 in c:\\users\\harsh\\projects\\python\\aiml\\venv\\lib\\site-packages (from jsonpatch<2.0,>=1.33->langchain-core<0.3.0,>=0.2.27->langchain) (3.0.0)\n",
      "Note: you may need to restart the kernel to use updated packages.\n"
     ]
    }
   ],
   "source": [
    "%pip install langchain"
   ]
  },
  {
   "cell_type": "code",
   "execution_count": 3,
   "metadata": {},
   "outputs": [
    {
     "data": {
      "text/plain": [
       "'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'"
      ]
     },
     "execution_count": 3,
     "metadata": {},
     "output_type": "execute_result"
    }
   ],
   "source": [
    "### Open AI API Key and Open Source models--Llama3,Gemma2,mistral--Groq\n",
    "\n",
    "import os\n",
    "from dotenv import load_dotenv\n",
    "load_dotenv()\n",
    "\n",
    "import openai\n",
    "\n",
    "openai.api_key=os.getenv(\"OPENAI_API_KEY\")\n",
    "\n",
    "groq_api_key=os.getenv(\"GROQ_API_KEY\")\n",
    "openai.api_key\n",
    "groq_api_key"
   ]
  },
  {
   "cell_type": "code",
   "execution_count": 4,
   "metadata": {},
   "outputs": [
    {
     "name": "stdout",
     "output_type": "stream",
     "text": [
      "Requirement already satisfied: langchain_groq in c:\\users\\harsh\\projects\\python\\aiml\\venv\\lib\\site-packages (0.1.9)\n",
      "Requirement already satisfied: groq<1,>=0.4.1 in c:\\users\\harsh\\projects\\python\\aiml\\venv\\lib\\site-packages (from langchain_groq) (0.9.0)\n",
      "Requirement already satisfied: langchain-core<0.3.0,>=0.2.26 in c:\\users\\harsh\\projects\\python\\aiml\\venv\\lib\\site-packages (from langchain_groq) (0.2.29)\n",
      "Requirement already satisfied: anyio<5,>=3.5.0 in c:\\users\\harsh\\projects\\python\\aiml\\venv\\lib\\site-packages (from groq<1,>=0.4.1->langchain_groq) (4.4.0)\n",
      "Requirement already satisfied: distro<2,>=1.7.0 in c:\\users\\harsh\\projects\\python\\aiml\\venv\\lib\\site-packages (from groq<1,>=0.4.1->langchain_groq) (1.9.0)\n",
      "Requirement already satisfied: httpx<1,>=0.23.0 in c:\\users\\harsh\\projects\\python\\aiml\\venv\\lib\\site-packages (from groq<1,>=0.4.1->langchain_groq) (0.27.0)\n",
      "Requirement already satisfied: pydantic<3,>=1.9.0 in c:\\users\\harsh\\projects\\python\\aiml\\venv\\lib\\site-packages (from groq<1,>=0.4.1->langchain_groq) (2.8.2)\n",
      "Requirement already satisfied: sniffio in c:\\users\\harsh\\projects\\python\\aiml\\venv\\lib\\site-packages (from groq<1,>=0.4.1->langchain_groq) (1.3.1)\n",
      "Requirement already satisfied: typing-extensions<5,>=4.7 in c:\\users\\harsh\\projects\\python\\aiml\\venv\\lib\\site-packages (from groq<1,>=0.4.1->langchain_groq) (4.12.2)\n",
      "Requirement already satisfied: PyYAML>=5.3 in c:\\users\\harsh\\projects\\python\\aiml\\venv\\lib\\site-packages (from langchain-core<0.3.0,>=0.2.26->langchain_groq) (6.0.2)\n",
      "Requirement already satisfied: jsonpatch<2.0,>=1.33 in c:\\users\\harsh\\projects\\python\\aiml\\venv\\lib\\site-packages (from langchain-core<0.3.0,>=0.2.26->langchain_groq) (1.33)\n",
      "Requirement already satisfied: langsmith<0.2.0,>=0.1.75 in c:\\users\\harsh\\projects\\python\\aiml\\venv\\lib\\site-packages (from langchain-core<0.3.0,>=0.2.26->langchain_groq) (0.1.99)\n",
      "Requirement already satisfied: packaging<25,>=23.2 in c:\\users\\harsh\\projects\\python\\aiml\\venv\\lib\\site-packages (from langchain-core<0.3.0,>=0.2.26->langchain_groq) (24.1)\n",
      "Requirement already satisfied: tenacity!=8.4.0,<9.0.0,>=8.1.0 in c:\\users\\harsh\\projects\\python\\aiml\\venv\\lib\\site-packages (from langchain-core<0.3.0,>=0.2.26->langchain_groq) (8.5.0)\n",
      "Requirement already satisfied: idna>=2.8 in c:\\users\\harsh\\projects\\python\\aiml\\venv\\lib\\site-packages (from anyio<5,>=3.5.0->groq<1,>=0.4.1->langchain_groq) (3.7)\n",
      "Requirement already satisfied: certifi in c:\\users\\harsh\\projects\\python\\aiml\\venv\\lib\\site-packages (from httpx<1,>=0.23.0->groq<1,>=0.4.1->langchain_groq) (2024.7.4)\n",
      "Requirement already satisfied: httpcore==1.* in c:\\users\\harsh\\projects\\python\\aiml\\venv\\lib\\site-packages (from httpx<1,>=0.23.0->groq<1,>=0.4.1->langchain_groq) (1.0.5)\n",
      "Requirement already satisfied: h11<0.15,>=0.13 in c:\\users\\harsh\\projects\\python\\aiml\\venv\\lib\\site-packages (from httpcore==1.*->httpx<1,>=0.23.0->groq<1,>=0.4.1->langchain_groq) (0.14.0)\n",
      "Requirement already satisfied: jsonpointer>=1.9 in c:\\users\\harsh\\projects\\python\\aiml\\venv\\lib\\site-packages (from jsonpatch<2.0,>=1.33->langchain-core<0.3.0,>=0.2.26->langchain_groq) (3.0.0)\n",
      "Requirement already satisfied: orjson<4.0.0,>=3.9.14 in c:\\users\\harsh\\projects\\python\\aiml\\venv\\lib\\site-packages (from langsmith<0.2.0,>=0.1.75->langchain-core<0.3.0,>=0.2.26->langchain_groq) (3.10.7)\n",
      "Requirement already satisfied: requests<3,>=2 in c:\\users\\harsh\\projects\\python\\aiml\\venv\\lib\\site-packages (from langsmith<0.2.0,>=0.1.75->langchain-core<0.3.0,>=0.2.26->langchain_groq) (2.32.3)\n",
      "Requirement already satisfied: annotated-types>=0.4.0 in c:\\users\\harsh\\projects\\python\\aiml\\venv\\lib\\site-packages (from pydantic<3,>=1.9.0->groq<1,>=0.4.1->langchain_groq) (0.7.0)\n",
      "Requirement already satisfied: pydantic-core==2.20.1 in c:\\users\\harsh\\projects\\python\\aiml\\venv\\lib\\site-packages (from pydantic<3,>=1.9.0->groq<1,>=0.4.1->langchain_groq) (2.20.1)\n",
      "Requirement already satisfied: charset-normalizer<4,>=2 in c:\\users\\harsh\\projects\\python\\aiml\\venv\\lib\\site-packages (from requests<3,>=2->langsmith<0.2.0,>=0.1.75->langchain-core<0.3.0,>=0.2.26->langchain_groq) (3.3.2)\n",
      "Requirement already satisfied: urllib3<3,>=1.21.1 in c:\\users\\harsh\\projects\\python\\aiml\\venv\\lib\\site-packages (from requests<3,>=2->langsmith<0.2.0,>=0.1.75->langchain-core<0.3.0,>=0.2.26->langchain_groq) (2.2.2)\n",
      "Note: you may need to restart the kernel to use updated packages.\n"
     ]
    }
   ],
   "source": [
    "%pip install langchain_groq"
   ]
  },
  {
   "cell_type": "code",
   "execution_count": 5,
   "metadata": {},
   "outputs": [
    {
     "data": {
      "text/plain": [
       "ChatGroq(client=<groq.resources.chat.completions.Completions object at 0x000002307A452EA0>, async_client=<groq.resources.chat.completions.AsyncCompletions object at 0x000002307A453740>, model_name='Gemma2-9b-It', groq_api_key=SecretStr('**********'))"
      ]
     },
     "execution_count": 5,
     "metadata": {},
     "output_type": "execute_result"
    }
   ],
   "source": [
    "from langchain_openai import ChatOpenAI\n",
    "from langchain_groq import ChatGroq\n",
    "model=ChatGroq(model=\"Gemma2-9b-It\",groq_api_key=groq_api_key)\n",
    "model"
   ]
  },
  {
   "cell_type": "code",
   "execution_count": 6,
   "metadata": {},
   "outputs": [
    {
     "name": "stdout",
     "output_type": "stream",
     "text": [
      "Requirement already satisfied: langchain_core in c:\\users\\harsh\\projects\\python\\aiml\\venv\\lib\\site-packages (0.2.29)\n",
      "Requirement already satisfied: PyYAML>=5.3 in c:\\users\\harsh\\projects\\python\\aiml\\venv\\lib\\site-packages (from langchain_core) (6.0.2)\n",
      "Requirement already satisfied: jsonpatch<2.0,>=1.33 in c:\\users\\harsh\\projects\\python\\aiml\\venv\\lib\\site-packages (from langchain_core) (1.33)\n",
      "Requirement already satisfied: langsmith<0.2.0,>=0.1.75 in c:\\users\\harsh\\projects\\python\\aiml\\venv\\lib\\site-packages (from langchain_core) (0.1.99)\n",
      "Requirement already satisfied: packaging<25,>=23.2 in c:\\users\\harsh\\projects\\python\\aiml\\venv\\lib\\site-packages (from langchain_core) (24.1)\n",
      "Requirement already satisfied: pydantic<3,>=1 in c:\\users\\harsh\\projects\\python\\aiml\\venv\\lib\\site-packages (from langchain_core) (2.8.2)\n",
      "Requirement already satisfied: tenacity!=8.4.0,<9.0.0,>=8.1.0 in c:\\users\\harsh\\projects\\python\\aiml\\venv\\lib\\site-packages (from langchain_core) (8.5.0)\n",
      "Requirement already satisfied: typing-extensions>=4.7 in c:\\users\\harsh\\projects\\python\\aiml\\venv\\lib\\site-packages (from langchain_core) (4.12.2)\n",
      "Requirement already satisfied: jsonpointer>=1.9 in c:\\users\\harsh\\projects\\python\\aiml\\venv\\lib\\site-packages (from jsonpatch<2.0,>=1.33->langchain_core) (3.0.0)\n",
      "Requirement already satisfied: orjson<4.0.0,>=3.9.14 in c:\\users\\harsh\\projects\\python\\aiml\\venv\\lib\\site-packages (from langsmith<0.2.0,>=0.1.75->langchain_core) (3.10.7)\n",
      "Requirement already satisfied: requests<3,>=2 in c:\\users\\harsh\\projects\\python\\aiml\\venv\\lib\\site-packages (from langsmith<0.2.0,>=0.1.75->langchain_core) (2.32.3)\n",
      "Requirement already satisfied: annotated-types>=0.4.0 in c:\\users\\harsh\\projects\\python\\aiml\\venv\\lib\\site-packages (from pydantic<3,>=1->langchain_core) (0.7.0)\n",
      "Requirement already satisfied: pydantic-core==2.20.1 in c:\\users\\harsh\\projects\\python\\aiml\\venv\\lib\\site-packages (from pydantic<3,>=1->langchain_core) (2.20.1)\n",
      "Requirement already satisfied: charset-normalizer<4,>=2 in c:\\users\\harsh\\projects\\python\\aiml\\venv\\lib\\site-packages (from requests<3,>=2->langsmith<0.2.0,>=0.1.75->langchain_core) (3.3.2)\n",
      "Requirement already satisfied: idna<4,>=2.5 in c:\\users\\harsh\\projects\\python\\aiml\\venv\\lib\\site-packages (from requests<3,>=2->langsmith<0.2.0,>=0.1.75->langchain_core) (3.7)\n",
      "Requirement already satisfied: urllib3<3,>=1.21.1 in c:\\users\\harsh\\projects\\python\\aiml\\venv\\lib\\site-packages (from requests<3,>=2->langsmith<0.2.0,>=0.1.75->langchain_core) (2.2.2)\n",
      "Requirement already satisfied: certifi>=2017.4.17 in c:\\users\\harsh\\projects\\python\\aiml\\venv\\lib\\site-packages (from requests<3,>=2->langsmith<0.2.0,>=0.1.75->langchain_core) (2024.7.4)\n",
      "Note: you may need to restart the kernel to use updated packages.\n"
     ]
    }
   ],
   "source": [
    "%pip install langchain_core"
   ]
  },
  {
   "cell_type": "code",
   "execution_count": 7,
   "metadata": {},
   "outputs": [],
   "source": [
    "from langchain_core.messages import HumanMessage,SystemMessage\n",
    "\n",
    "messages=[\n",
    "    SystemMessage(content=\"Translate the following from English to French\"),\n",
    "    HumanMessage(content=\"Hello How are you?\")\n",
    "]\n",
    "\n",
    "result=model.invoke(messages)"
   ]
  },
  {
   "cell_type": "code",
   "execution_count": 8,
   "metadata": {},
   "outputs": [
    {
     "data": {
      "text/plain": [
       "AIMessage(content='Bonjour ! Comment allez-vous ? \\n', response_metadata={'token_usage': {'completion_tokens': 11, 'prompt_tokens': 26, 'total_tokens': 37, 'completion_time': 0.022, 'prompt_time': 0.002710627, 'queue_time': None, 'total_time': 0.024710627}, 'model_name': 'Gemma2-9b-It', 'system_fingerprint': 'fp_10c08bf97d', 'finish_reason': 'stop', 'logprobs': None}, id='run-40dc4d9f-fdf6-4693-96ab-b99008880d15-0', usage_metadata={'input_tokens': 26, 'output_tokens': 11, 'total_tokens': 37})"
      ]
     },
     "execution_count": 8,
     "metadata": {},
     "output_type": "execute_result"
    }
   ],
   "source": [
    "result"
   ]
  },
  {
   "cell_type": "code",
   "execution_count": 9,
   "metadata": {},
   "outputs": [
    {
     "data": {
      "text/plain": [
       "'Bonjour ! Comment allez-vous ? \\n'"
      ]
     },
     "execution_count": 9,
     "metadata": {},
     "output_type": "execute_result"
    }
   ],
   "source": [
    "from langchain_core.output_parsers import StrOutputParser\n",
    "parser=StrOutputParser()\n",
    "parser.invoke(result)"
   ]
  },
  {
   "cell_type": "code",
   "execution_count": 10,
   "metadata": {},
   "outputs": [
    {
     "data": {
      "text/plain": [
       "'Bonjour, comment allez-vous ? \\n'"
      ]
     },
     "execution_count": 10,
     "metadata": {},
     "output_type": "execute_result"
    }
   ],
   "source": [
    "### Using LCEL- chain the components\n",
    "chain=model|parser\n",
    "chain.invoke(messages)"
   ]
  },
  {
   "cell_type": "code",
   "execution_count": 11,
   "metadata": {},
   "outputs": [],
   "source": [
    "### Prompt Templates\n",
    "from langchain_core.prompts import ChatPromptTemplate\n",
    "\n",
    "generic_template=\"Trnaslate the following into {language}:\"\n",
    "\n",
    "prompt=ChatPromptTemplate.from_messages(\n",
    "    [(\"system\",generic_template),(\"user\",\"{text}\")]\n",
    ")\n",
    "\n"
   ]
  },
  {
   "cell_type": "code",
   "execution_count": 12,
   "metadata": {},
   "outputs": [],
   "source": [
    "result=prompt.invoke({\"language\":\"French\",\"text\":\"Hello\"})"
   ]
  },
  {
   "cell_type": "code",
   "execution_count": 13,
   "metadata": {},
   "outputs": [
    {
     "data": {
      "text/plain": [
       "[SystemMessage(content='Trnaslate the following into French:'),\n",
       " HumanMessage(content='Hello')]"
      ]
     },
     "execution_count": 13,
     "metadata": {},
     "output_type": "execute_result"
    }
   ],
   "source": [
    "result.to_messages()"
   ]
  },
  {
   "cell_type": "code",
   "execution_count": 14,
   "metadata": {},
   "outputs": [
    {
     "data": {
      "text/plain": [
       "'Bonjour \\n'"
      ]
     },
     "execution_count": 14,
     "metadata": {},
     "output_type": "execute_result"
    }
   ],
   "source": [
    "##Chaining together components with LCEL\n",
    "chain=prompt|model|parser\n",
    "chain.invoke({\"language\":\"French\",\"text\":\"Hello\"})"
   ]
  },
  {
   "cell_type": "code",
   "execution_count": 15,
   "metadata": {},
   "outputs": [
    {
     "name": "stdout",
     "output_type": "stream",
     "text": [
      "Requirement already satisfied: streamlit in c:\\users\\harsh\\projects\\python\\aiml\\venv\\lib\\site-packages (1.37.1)\n",
      "Requirement already satisfied: altair<6,>=4.0 in c:\\users\\harsh\\projects\\python\\aiml\\venv\\lib\\site-packages (from streamlit) (5.3.0)\n",
      "Requirement already satisfied: blinker<2,>=1.0.0 in c:\\users\\harsh\\projects\\python\\aiml\\venv\\lib\\site-packages (from streamlit) (1.8.2)\n",
      "Requirement already satisfied: cachetools<6,>=4.0 in c:\\users\\harsh\\projects\\python\\aiml\\venv\\lib\\site-packages (from streamlit) (5.4.0)\n",
      "Requirement already satisfied: click<9,>=7.0 in c:\\users\\harsh\\projects\\python\\aiml\\venv\\lib\\site-packages (from streamlit) (8.1.7)\n",
      "Requirement already satisfied: numpy<3,>=1.20 in c:\\users\\harsh\\projects\\python\\aiml\\venv\\lib\\site-packages (from streamlit) (1.26.4)\n",
      "Requirement already satisfied: packaging<25,>=20 in c:\\users\\harsh\\projects\\python\\aiml\\venv\\lib\\site-packages (from streamlit) (24.1)\n",
      "Requirement already satisfied: pandas<3,>=1.3.0 in c:\\users\\harsh\\projects\\python\\aiml\\venv\\lib\\site-packages (from streamlit) (2.2.2)\n",
      "Requirement already satisfied: pillow<11,>=7.1.0 in c:\\users\\harsh\\projects\\python\\aiml\\venv\\lib\\site-packages (from streamlit) (10.4.0)\n",
      "Requirement already satisfied: protobuf<6,>=3.20 in c:\\users\\harsh\\projects\\python\\aiml\\venv\\lib\\site-packages (from streamlit) (4.25.4)\n",
      "Requirement already satisfied: pyarrow>=7.0 in c:\\users\\harsh\\projects\\python\\aiml\\venv\\lib\\site-packages (from streamlit) (17.0.0)\n",
      "Requirement already satisfied: requests<3,>=2.27 in c:\\users\\harsh\\projects\\python\\aiml\\venv\\lib\\site-packages (from streamlit) (2.32.3)\n",
      "Requirement already satisfied: rich<14,>=10.14.0 in c:\\users\\harsh\\projects\\python\\aiml\\venv\\lib\\site-packages (from streamlit) (13.7.1)\n",
      "Requirement already satisfied: tenacity<9,>=8.1.0 in c:\\users\\harsh\\projects\\python\\aiml\\venv\\lib\\site-packages (from streamlit) (8.5.0)\n",
      "Requirement already satisfied: toml<2,>=0.10.1 in c:\\users\\harsh\\projects\\python\\aiml\\venv\\lib\\site-packages (from streamlit) (0.10.2)\n",
      "Requirement already satisfied: typing-extensions<5,>=4.3.0 in c:\\users\\harsh\\projects\\python\\aiml\\venv\\lib\\site-packages (from streamlit) (4.12.2)\n",
      "Requirement already satisfied: gitpython!=3.1.19,<4,>=3.0.7 in c:\\users\\harsh\\projects\\python\\aiml\\venv\\lib\\site-packages (from streamlit) (3.1.43)\n",
      "Requirement already satisfied: pydeck<1,>=0.8.0b4 in c:\\users\\harsh\\projects\\python\\aiml\\venv\\lib\\site-packages (from streamlit) (0.9.1)\n",
      "Requirement already satisfied: tornado<7,>=6.0.3 in c:\\users\\harsh\\projects\\python\\aiml\\venv\\lib\\site-packages (from streamlit) (6.4.1)\n",
      "Requirement already satisfied: watchdog<5,>=2.1.5 in c:\\users\\harsh\\projects\\python\\aiml\\venv\\lib\\site-packages (from streamlit) (4.0.1)\n",
      "Requirement already satisfied: jinja2 in c:\\users\\harsh\\projects\\python\\aiml\\venv\\lib\\site-packages (from altair<6,>=4.0->streamlit) (3.1.4)\n",
      "Requirement already satisfied: jsonschema>=3.0 in c:\\users\\harsh\\projects\\python\\aiml\\venv\\lib\\site-packages (from altair<6,>=4.0->streamlit) (4.23.0)\n",
      "Requirement already satisfied: toolz in c:\\users\\harsh\\projects\\python\\aiml\\venv\\lib\\site-packages (from altair<6,>=4.0->streamlit) (0.12.1)\n",
      "Requirement already satisfied: colorama in c:\\users\\harsh\\projects\\python\\aiml\\venv\\lib\\site-packages (from click<9,>=7.0->streamlit) (0.4.6)\n",
      "Requirement already satisfied: gitdb<5,>=4.0.1 in c:\\users\\harsh\\projects\\python\\aiml\\venv\\lib\\site-packages (from gitpython!=3.1.19,<4,>=3.0.7->streamlit) (4.0.11)\n",
      "Requirement already satisfied: python-dateutil>=2.8.2 in c:\\users\\harsh\\projects\\python\\aiml\\venv\\lib\\site-packages (from pandas<3,>=1.3.0->streamlit) (2.9.0.post0)\n",
      "Requirement already satisfied: pytz>=2020.1 in c:\\users\\harsh\\projects\\python\\aiml\\venv\\lib\\site-packages (from pandas<3,>=1.3.0->streamlit) (2024.1)\n",
      "Requirement already satisfied: tzdata>=2022.7 in c:\\users\\harsh\\projects\\python\\aiml\\venv\\lib\\site-packages (from pandas<3,>=1.3.0->streamlit) (2024.1)\n",
      "Requirement already satisfied: charset-normalizer<4,>=2 in c:\\users\\harsh\\projects\\python\\aiml\\venv\\lib\\site-packages (from requests<3,>=2.27->streamlit) (3.3.2)\n",
      "Requirement already satisfied: idna<4,>=2.5 in c:\\users\\harsh\\projects\\python\\aiml\\venv\\lib\\site-packages (from requests<3,>=2.27->streamlit) (3.7)\n",
      "Requirement already satisfied: urllib3<3,>=1.21.1 in c:\\users\\harsh\\projects\\python\\aiml\\venv\\lib\\site-packages (from requests<3,>=2.27->streamlit) (2.2.2)\n",
      "Requirement already satisfied: certifi>=2017.4.17 in c:\\users\\harsh\\projects\\python\\aiml\\venv\\lib\\site-packages (from requests<3,>=2.27->streamlit) (2024.7.4)\n",
      "Requirement already satisfied: markdown-it-py>=2.2.0 in c:\\users\\harsh\\projects\\python\\aiml\\venv\\lib\\site-packages (from rich<14,>=10.14.0->streamlit) (3.0.0)\n",
      "Requirement already satisfied: pygments<3.0.0,>=2.13.0 in c:\\users\\harsh\\projects\\python\\aiml\\venv\\lib\\site-packages (from rich<14,>=10.14.0->streamlit) (2.18.0)\n",
      "Requirement already satisfied: smmap<6,>=3.0.1 in c:\\users\\harsh\\projects\\python\\aiml\\venv\\lib\\site-packages (from gitdb<5,>=4.0.1->gitpython!=3.1.19,<4,>=3.0.7->streamlit) (5.0.1)\n",
      "Requirement already satisfied: MarkupSafe>=2.0 in c:\\users\\harsh\\projects\\python\\aiml\\venv\\lib\\site-packages (from jinja2->altair<6,>=4.0->streamlit) (2.1.5)\n",
      "Requirement already satisfied: attrs>=22.2.0 in c:\\users\\harsh\\projects\\python\\aiml\\venv\\lib\\site-packages (from jsonschema>=3.0->altair<6,>=4.0->streamlit) (24.2.0)\n",
      "Requirement already satisfied: jsonschema-specifications>=2023.03.6 in c:\\users\\harsh\\projects\\python\\aiml\\venv\\lib\\site-packages (from jsonschema>=3.0->altair<6,>=4.0->streamlit) (2023.12.1)\n",
      "Requirement already satisfied: referencing>=0.28.4 in c:\\users\\harsh\\projects\\python\\aiml\\venv\\lib\\site-packages (from jsonschema>=3.0->altair<6,>=4.0->streamlit) (0.35.1)\n",
      "Requirement already satisfied: rpds-py>=0.7.1 in c:\\users\\harsh\\projects\\python\\aiml\\venv\\lib\\site-packages (from jsonschema>=3.0->altair<6,>=4.0->streamlit) (0.20.0)\n",
      "Requirement already satisfied: mdurl~=0.1 in c:\\users\\harsh\\projects\\python\\aiml\\venv\\lib\\site-packages (from markdown-it-py>=2.2.0->rich<14,>=10.14.0->streamlit) (0.1.2)\n",
      "Requirement already satisfied: six>=1.5 in c:\\users\\harsh\\projects\\python\\aiml\\venv\\lib\\site-packages (from python-dateutil>=2.8.2->pandas<3,>=1.3.0->streamlit) (1.16.0)\n",
      "Note: you may need to restart the kernel to use updated packages.\n"
     ]
    }
   ],
   "source": [
    "%pip install streamlit"
   ]
  },
  {
   "cell_type": "code",
   "execution_count": null,
   "metadata": {},
   "outputs": [],
   "source": []
  },
  {
   "cell_type": "code",
   "execution_count": null,
   "metadata": {},
   "outputs": [],
   "source": []
  },
  {
   "cell_type": "code",
   "execution_count": null,
   "metadata": {},
   "outputs": [],
   "source": []
  },
  {
   "cell_type": "code",
   "execution_count": null,
   "metadata": {},
   "outputs": [],
   "source": []
  }
 ],
 "metadata": {
  "kernelspec": {
   "display_name": "Python 3 (ipykernel)",
   "language": "python",
   "name": "python3"
  },
  "language_info": {
   "codemirror_mode": {
    "name": "ipython",
    "version": 3
   },
   "file_extension": ".py",
   "mimetype": "text/x-python",
   "name": "python",
   "nbconvert_exporter": "python",
   "pygments_lexer": "ipython3",
   "version": "3.12.0"
  }
 },
 "nbformat": 4,
 "nbformat_minor": 4
}
